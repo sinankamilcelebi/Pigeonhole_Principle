{
 "cells": [
  {
   "cell_type": "markdown",
   "metadata": {},
   "source": [
    "* @file     : Phone_Area_Code_Region_Count_(Pigeonhole_Principle).ipynb   \n",
    "* @author   : Sinan KAMILCELEBI   \n",
    "* @version  : V1.0.1   \n",
    "* @date     : 08-March-2019   \n",
    "* @brief    : Telefon Alan Kodu Bölge Sayısı (Güvercin Yuvası İlkesi).   \n",
    "\n",
    "__Örnek Soru:__     \n",
    "K milyon telefon abonesi bulunan bir ülkede, telefon numaraları bölge kodundan sonra NXX-XXXX (N = (2...9), X = (0...9)) biçimindedir. Buna göre bu ülkede en az kaç bölge vardır?\n",
    "\n",
    "__Çözüm:__   \n",
    "K = 25 ise.   \n",
    "Bir bölgede 8 x 10 ^ 6 olası telefon numarası vardır. 25 milyon telefon numarası arasından en az ((25 x 10 ^ 6) / (8 x 10 ^ 6)) = 4 tanesi aynıdır. Bu durumda en az 4 bölge vardır.\n",
    "\n",
    "__Açıklamalar:__\n",
    "\n",
    "<p align = \"center\">\n",
    "<img src = \"pigeonhole_principle_I.jpg\" alt = \"Pigeonhole Principle\" title = \"Pigeonhole Principle\" width = \"300\" height = \"150\" />\n",
    "</p>\n",
    "\n",
    "g, y ∈ Z+   \n",
    "g : Güvercin Sayısını,  \n",
    "y : Yuva Sayısını göstermek üzere:     \n",
    "\n",
    "> En az bir yuva ceil(g / y) güvercin içerir.   \n",
    "NOT: g ≤ y olması durumunda dahi ceil(g / y) = 1 olacaktır.\n",
    "\n",
    "Örnek olarak g = 4 ve y = 3 ise en az bir yuva ceil(4 / 3) = 2 güvercin içerir.   \n",
    "\n",
    "<p align = \"center\">\n",
    "<img src = \"pigeonhole_principle_II.jpg\" alt = \"Pigeonhole Principle\" title = \"Pigeonhole Principle\" width = \"300\" height = \"150\" />\n",
    "</p>\n",
    "\n",
    "Yukarıdaki örnekte K ifadesi güvercin sayısını, bir bölgedeki olası telefon numara sayısı ise güvercin yuvasını temsil etmektedir. Ülkedeki en az bölge sayısını, telefon abone sayısını (güvercin sayısı) bir bölgedeki olası telefon numara sayısına (yuva sayısı) bölerek elde ederiz. "
   ]
  },
  {
   "cell_type": "code",
   "execution_count": 6,
   "metadata": {},
   "outputs": [],
   "source": [
    "import math"
   ]
  },
  {
   "cell_type": "code",
   "execution_count": 7,
   "metadata": {},
   "outputs": [
    {
     "name": "stdout",
     "output_type": "stream",
     "text": [
      "Lütfen telefon abone sayısını giriniz? 25\n",
      "En az 4 bölge vardır.\n"
     ]
    }
   ],
   "source": [
    "Telefon_Abone_Sayisi = input(\"Lütfen telefon abone sayısını giriniz? \")\n",
    "\n",
    "K = int(Telefon_Abone_Sayisi)\n",
    "Bir_Bolge_Olasi_Telefon_Numara_Sayisi = 8000000\n",
    "\n",
    "En_Az_Bolge_Sayisi = (int(K * 1000000) / int(Bir_Bolge_Olasi_Telefon_Numara_Sayisi))\n",
    "\n",
    "print(\"En az\", math.ceil(En_Az_Bolge_Sayisi), \"bölge vardır.\")"
   ]
  }
 ],
 "metadata": {
  "kernelspec": {
   "display_name": "Python 3",
   "language": "python",
   "name": "python3"
  },
  "language_info": {
   "codemirror_mode": {
    "name": "ipython",
    "version": 3
   },
   "file_extension": ".py",
   "mimetype": "text/x-python",
   "name": "python",
   "nbconvert_exporter": "python",
   "pygments_lexer": "ipython3",
   "version": "3.7.1"
  }
 },
 "nbformat": 4,
 "nbformat_minor": 2
}
