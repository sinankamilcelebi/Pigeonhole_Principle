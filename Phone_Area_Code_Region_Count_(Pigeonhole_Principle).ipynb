{
 "cells": [
  {
   "cell_type": "markdown",
   "metadata": {},
   "source": [
    "<a href=\"https://colab.research.google.com/github/sinankamilcelebi/Pigeonhole_Principle/edit/master/Phone_Area_Code_Region_Count_(Pigeonhole_Principle).ipynb\" target=\"_parent\"><img src=\"https://colab.research.google.com/assets/colab-badge.svg\" alt=\"Open In Colab\"/></a>"
    "@file     : Phone_Area_Code_Region_Count_(Pigeonhole_Principle).ipynb\n",
    "@author   : Sinan KAMILCELEBI\n",
    "@version  : V1.0.0\n",
    "@date     : 08-March-2019\n",
    "@brief    : Telefon Alan Kodu Bölge Sayısı (Güvercin Yuvası İlkesi).\n",
    "\n",
    "Örnek Soru: \n",
    "K milyon telefon abonesi bulunan bir ülkede, telefon numaraları bölge kodundan sonra NXX-XXXX (N = (2...9), X = (0...9)) biçimindedir. Buna göre bu ülkede en az kaç bölge vardır?\n",
    "\n",
    "Çözüm:\n",
    "K = 25 ise.\n",
    "Bir bölgede 8 x 10 ^ 6 olası telefon numarası vardır. 25 milyon telefon numarası arasından en az ((25 x 10 ^ 6) / (8 x 10 ^ 6)) = 4 tanesi aynıdır. Bu durumda en az 4 bölge vardır.\n",
    "\n",
    "Açıklamalar:\n",
    "Yukarıdaki örnekte K ifadesi güvercin sayısını, bir bölgedeki olası telefon numara sayısı ise güvercin yuvasını temsil etmektedir. Ülkedeki en az bölge sayısını, telefon abone sayısını (güvercin sayısı) bir bölgedeki olası telefon numara sayısına (yuva sayısı) bölerek elde ederiz. "
   ]
  },
  {
   "cell_type": "code",
   "execution_count": 5,
   "metadata": {},
   "outputs": [
    {
     "name": "stdout",
     "output_type": "stream",
     "text": [
      "Lütfen telefon abone sayısını giriniz? 25\n",
      "En az 4 bölge vardır.\n"
     ]
    }
   ],
   "source": [
    "import math\n",
    "\n",
    "Telefon_Abone_Sayisi = input(\"Lütfen telefon abone sayısını giriniz? \")\n",
    "\n",
    "K = int(Telefon_Abone_Sayisi)\n",
    "Bir_Bolge_Olasi_Telefon_Numara_Sayisi = 8000000\n",
    "\n",
    "En_Az_Bolge_Sayisi = (int(K * 1000000) / int(Bir_Bolge_Olasi_Telefon_Numara_Sayisi))\n",
    "\n",
    "print(\"En az\", math.ceil(En_Az_Bolge_Sayisi), \"bölge vardır.\")"
   ]
  },
  {
   "cell_type": "code",
   "execution_count": null,
   "metadata": {},
   "outputs": [],
   "source": []
  }
 ],
 "metadata": {
  "kernelspec": {
   "display_name": "Python 3",
   "language": "python",
   "name": "python3"
  },
  "language_info": {
   "codemirror_mode": {
    "name": "ipython",
    "version": 3
   },
   "file_extension": ".py",
   "mimetype": "text/x-python",
   "name": "python",
   "nbconvert_exporter": "python",
   "pygments_lexer": "ipython3",
   "version": "3.7.1"
  }
 },
 "nbformat": 4,
 "nbformat_minor": 2
}
